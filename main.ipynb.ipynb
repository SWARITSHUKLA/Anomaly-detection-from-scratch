{
  "nbformat": 4,
  "nbformat_minor": 0,
  "metadata": {
    "colab": {
      "provenance": []
    },
    "kernelspec": {
      "name": "python3",
      "display_name": "Python 3"
    },
    "language_info": {
      "name": "python"
    }
  },
  "cells": [
    {
      "cell_type": "code",
      "execution_count": 3,
      "metadata": {
        "colab": {
          "base_uri": "https://localhost:8080/"
        },
        "id": "SXtedrjo-ZAk",
        "outputId": "943c286b-4469-4947-caf8-56b612923d71"
      },
      "outputs": [
        {
          "output_type": "stream",
          "name": "stdout",
          "text": [
            "   heart_rate  systolic_bp  diastolic_bp       spo2  label\n",
            "0   80.433602   132.870088     86.231492  98.136243      0\n",
            "1   84.826910   125.083189     87.347636  95.085543      0\n",
            "2   56.591258   120.290633     74.323361  97.218282      0\n",
            "3   69.263380   119.743592     80.607642  95.270001      0\n",
            "4   63.753579   129.813196     84.836123  96.575292      0\n"
          ]
        }
      ],
      "source": [
        "import numpy as np\n",
        "import pandas as pd\n",
        "import math as mt\n",
        "df_hd = pd.read_csv(\"healthcare_vitals_dataset.csv\")\n",
        "print(df_hd.head())\n"
      ]
    },
    {
      "cell_type": "code",
      "source": [
        "hrt = np.array(df_hd[\"heart_rate\"])\n",
        "sbp = np.array(df_hd[\"systolic_bp\"])\n",
        "dbp = np.array(df_hd[\"diastolic_bp\"])\n",
        "spo2 = np.array(df_hd[\"spo2\"])"
      ],
      "metadata": {
        "id": "GKARB7_GGudG"
      },
      "execution_count": 4,
      "outputs": []
    },
    {
      "cell_type": "code",
      "source": [
        "class Anomaly_detection:\n",
        "  def __init__(self,x1,x2,x3,x4):\n",
        "    self.x1_mean = np.mean(x1)\n",
        "    self.x1_var  = np.var(x1)\n",
        "    self.x2_mean = np.mean(x2)\n",
        "    self.x2_var  = np.var(x2)\n",
        "    self.x3_mean = np.mean(x3)\n",
        "    self.x3_var  = np.var(x3)\n",
        "    self.x4_mean = np.mean(x4)\n",
        "    self.x4_var  = np.var(x4)\n",
        "\n",
        "  def prob(self,x,mu,var):\n",
        "    p1 = -(mt.pow((x-mu),2) / (2*var))\n",
        "    p2 = mt.exp(p1+ 0.0001)\n",
        "    p3 = 1/(mt.sqrt(2*mt.pi)*mt.sqrt(var))\n",
        "    probability = p3*p2\n",
        "    return probability\n",
        "\n",
        "  def detect(self,test1,test2,test3,test4):\n",
        "     probability = prob(x1)\n",
        "\n"
      ],
      "metadata": {
        "id": "uAMbR_LcCNco"
      },
      "execution_count": 5,
      "outputs": []
    }
  ]
}