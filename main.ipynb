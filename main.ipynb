{
  "cells": [
    {
      "cell_type": "code",
      "execution_count": 51,
      "metadata": {
        "colab": {
          "base_uri": "https://localhost:8080/"
        },
        "id": "SXtedrjo-ZAk",
        "outputId": "943c286b-4469-4947-caf8-56b612923d71"
      },
      "outputs": [
        {
          "name": "stdout",
          "output_type": "stream",
          "text": [
            "   heart_rate  systolic_bp  diastolic_bp       spo2  label\n",
            "0   80.433602   132.870088     86.231492  98.136243      0\n",
            "1   84.826910   125.083189     87.347636  95.085543      0\n",
            "2   56.591258   120.290633     74.323361  97.218282      0\n",
            "3   69.263380   119.743592     80.607642  95.270001      0\n",
            "4   63.753579   129.813196     84.836123  96.575292      0\n"
          ]
        }
      ],
      "source": [
        "import numpy as np\n",
        "import pandas as pd\n",
        "import math as mt\n",
        "import matplotlib.pyplot as plt\n",
        "import seaborn as sns\n",
        "df_hd = pd.read_csv(\"healthcare_vitals_dataset.csv\")\n",
        "print(df_hd.head())\n",
        "#only positive data \n",
        "p_df_hd = df_hd[df_hd[\"label\"] == 0]\n"
      ]
    },
    {
      "cell_type": "code",
      "execution_count": null,
      "metadata": {
        "id": "GKARB7_GGudG"
      },
      "outputs": [],
      "source": [
        "hrt = np.array(p_df_hd[\"heart_rate\"])\n",
        "sbp = np.array(p_df_hd[\"systolic_bp\"])\n",
        "dbp = np.array(p_df_hd[\"diastolic_bp\"])\n",
        "spo2 = np.array(p_df_hd[\"spo2\"])\n",
        "sns.histplot(hrt, bins = 1000, kde=True, stat=\"probability\", label = \"heart_rate\")\n",
        "sns.histplot(sbp, bins = 1000, kde=True, stat=\"probability\", label = \"systolic_bp\" )\n",
        "sns.histplot(dbp, bins = 1000, kde=True, stat=\"probability\", label = \"diastolic_bp\")\n",
        "sns.histplot(spo2, bins = 1000, kde=True, stat=\"probability\",label = \"spo2\")\n",
        "plt.legend()\n",
        "plt.show()\n"
      ]
    },
    {
      "cell_type": "code",
      "execution_count": null,
      "metadata": {
        "id": "uAMbR_LcCNco"
      },
      "outputs": [],
      "source": [
        "class Anomaly_detection:\n",
        "  def __init__(self,x1,x2,x3,x4):\n",
        "    self.x1_mean = np.mean(x1)\n",
        "    self.x1_var  = np.var(x1)\n",
        "    self.x2_mean = np.mean(x2)\n",
        "    self.x2_var  = np.var(x2)\n",
        "    self.x3_mean = np.mean(x3)\n",
        "    self.x3_var  = np.var(x3)\n",
        "    self.x4_mean = np.mean(x4)\n",
        "    self.x4_var  = np.var(x4)\n",
        "\n",
        "  def prob(self,x,mu,var):\n",
        "    p1 = -(mt.pow((x-mu),2) / (2*var))\n",
        "    p2 = mt.exp(p1+ 0.0001)\n",
        "    p3 = 1/(mt.sqrt(2*mt.pi)*mt.sqrt(var))\n",
        "    probability = p3*p2\n",
        "    return probability\n",
        "\n",
        "  def is_anomaly(self,test1,test2,test3,test4,epsilon):\n",
        "    p1 = self.prob(test1,self.x1_mean,self.x1_var)\n",
        "    p2 = self.prob(test2,self.x2_mean,self.x2_var)\n",
        "    p3 = self.prob(test3,self.x3_mean,self.x3_var)\n",
        "    p4 = self.prob(test4,self.x4_mean,self.x4_var)\n",
        "     probability = p1* p2* p3* p4\n",
        "     if (probability < epsilon):\n",
        "      return True\n",
        "     else:\n",
        "      return False\n"
      ]
    },
    {
      "cell_type": "code",
      "execution_count": null,
      "metadata": {},
      "outputs": [],
      "source": [
        "test = Anomaly_detection(hrt,sbp,dbp,spo2)"
      ]
    },
    {
      "cell_type": "code",
      "execution_count": null,
      "metadata": {},
      "outputs": [
        {
          "data": {
            "text/plain": [
              "False"
            ]
          },
          "execution_count": 50,
          "metadata": {},
          "output_type": "execute_result"
        }
      ],
      "source": [
        "test.is_anomaly(80.43,132.87,86.23,98.13, 1e-6)"
      ]
    }
  ],
  "metadata": {
    "colab": {
      "provenance": []
    },
    "kernelspec": {
      "display_name": "Python 3",
      "name": "python3"
    },
    "language_info": {
      "codemirror_mode": {
        "name": "ipython",
        "version": 3
      },
      "file_extension": ".py",
      "mimetype": "text/x-python",
      "name": "python",
      "nbconvert_exporter": "python",
      "pygments_lexer": "ipython3",
      "version": "3.13.6"
    }
  },
  "nbformat": 4,
  "nbformat_minor": 0
}
